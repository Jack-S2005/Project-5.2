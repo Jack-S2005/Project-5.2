{
  "cells": [
    {
      "cell_type": "markdown",
      "metadata": {
        "id": "CcUT6Fon_qRE"
      },
      "source": [
        "### Required Assignment 5.1: Will the Customer Accept the Coupon?\n",
        "\n",
        "**Context**\n",
        "\n",
        "Imagine driving through town and a coupon is delivered to your cell phone for a restaurant near where you are driving. Would you accept that coupon and take a short detour to the restaurant? Would you accept the coupon but use it on a subsequent trip? Would you ignore the coupon entirely? What if the coupon was for a bar instead of a restaurant? What about a coffee house? Would you accept a bar coupon with a minor passenger in the car? What about if it was just you and your partner in the car? Would weather impact the rate of acceptance? What about the time of day?\n",
        "\n",
        "Obviously, proximity to the business is a factor on whether the coupon is delivered to the driver or not, but what are the factors that determine whether a driver accepts the coupon once it is delivered to them? How would you determine whether a driver is likely to accept a coupon?\n",
        "\n",
        "**Overview**\n",
        "\n",
        "The goal of this project is to use what you know about visualizations and probability distributions to distinguish between customers who accepted a driving coupon versus those that did not.\n",
        "\n",
        "**Data**\n",
        "\n",
        "This data comes to us from the UCI Machine Learning repository and was collected via a survey on Amazon Mechanical Turk. The survey describes different driving scenarios including the destination, current time, weather, passenger, etc., and then ask the person whether he will accept the coupon if he is the driver. Answers that the user will drive there ‘right away’ or ‘later before the coupon expires’ are labeled as ‘Y = 1’ and answers ‘no, I do not want the coupon’ are labeled as ‘Y = 0’.  There are five different types of coupons -- less expensive restaurants (under \\$20), coffee houses, carry out & take away, bar, and more expensive restaurants (\\$20 - $50)."
      ]
    },
    {
      "cell_type": "markdown",
      "metadata": {
        "id": "1wORvMBJ_qRF"
      },
      "source": [
        "**Deliverables**\n",
        "\n",
        "Your final product should be a brief report that highlights the differences between customers who did and did not accept the coupons.  To explore the data you will utilize your knowledge of plotting, statistical summaries, and visualization using Python. You will publish your findings in a public facing github repository as your first portfolio piece.\n",
        "\n",
        "\n",
        "\n"
      ]
    },
    {
      "cell_type": "markdown",
      "metadata": {
        "id": "pG6_Ym6q_qRG"
      },
      "source": [
        "### Data Description\n",
        "Keep in mind that these values mentioned below are average values.\n",
        "\n",
        "The attributes of this data set include:\n",
        "1. User attributes\n",
        "    -  Gender: male, female\n",
        "    -  Age: below 21, 21 to 25, 26 to 30, etc.\n",
        "    -  Marital Status: single, married partner, unmarried partner, or widowed\n",
        "    -  Number of children: 0, 1, or more than 1\n",
        "    -  Education: high school, bachelors degree, associates degree, or graduate degree\n",
        "    -  Occupation: architecture & engineering, business & financial, etc.\n",
        "    -  Annual income: less than \\\\$12500, \\\\$12500 - \\\\$24999, \\\\$25000 - \\\\$37499, etc.\n",
        "    -  Number of times that he/she goes to a bar: 0, less than 1, 1 to 3, 4 to 8 or greater than 8\n",
        "    -  Number of times that he/she buys takeaway food: 0, less than 1, 1 to 3, 4 to 8 or greater\n",
        "    than 8\n",
        "    -  Number of times that he/she goes to a coffee house: 0, less than 1, 1 to 3, 4 to 8 or\n",
        "    greater than 8\n",
        "    -  Number of times that he/she eats at a restaurant with average expense less than \\\\$20 per\n",
        "    person: 0, less than 1, 1 to 3, 4 to 8 or greater than 8\n",
        "    -  Number of times that he/she goes to a bar: 0, less than 1, 1 to 3, 4 to 8 or greater than 8\n",
        "    \n",
        "\n",
        "2. Contextual attributes\n",
        "    - Driving destination: home, work, or no urgent destination\n",
        "    - Location of user, coupon and destination: we provide a map to show the geographical\n",
        "    location of the user, destination, and the venue, and we mark the distance between each\n",
        "    two places with time of driving. The user can see whether the venue is in the same\n",
        "    direction as the destination.\n",
        "    - Weather: sunny, rainy, or snowy\n",
        "    - Temperature: 30F, 55F, or 80F\n",
        "    - Time: 10AM, 2PM, or 6PM\n",
        "    - Passenger: alone, partner, kid(s), or friend(s)\n",
        "\n",
        "\n",
        "3. Coupon attributes\n",
        "    - time before it expires: 2 hours or one day"
      ]
    },
    {
      "cell_type": "code",
      "execution_count": 104,
      "metadata": {
        "id": "dzNoP3o__qRG"
      },
      "outputs": [],
      "source": [
        "import matplotlib.pyplot as plt\n",
        "import seaborn as sns\n",
        "import pandas as pd\n",
        "import numpy as np"
      ]
    },
    {
      "cell_type": "markdown",
      "metadata": {
        "id": "Ct8pI1uE_qRG"
      },
      "source": [
        "### Problems\n",
        "\n",
        "Use the prompts below to get started with your data analysis.  \n",
        "\n",
        "1. Read in the `coupons.csv` file.\n",
        "\n",
        "\n"
      ]
    },
    {
      "cell_type": "code",
      "execution_count": 105,
      "metadata": {
        "id": "X0vbffYg_qRH"
      },
      "outputs": [],
      "source": [
        "data = pd.read_csv('data/coupons.csv')"
      ]
    },
    {
      "cell_type": "code",
      "execution_count": 106,
      "metadata": {
        "id": "TXofQ_DF_qRH",
        "outputId": "2fc96a2c-1112-4b54-f24f-dbb9bc88abfb"
      },
      "outputs": [
        {
          "data": {
            "text/html": [
              "<div>\n",
              "<style scoped>\n",
              "    .dataframe tbody tr th:only-of-type {\n",
              "        vertical-align: middle;\n",
              "    }\n",
              "\n",
              "    .dataframe tbody tr th {\n",
              "        vertical-align: top;\n",
              "    }\n",
              "\n",
              "    .dataframe thead th {\n",
              "        text-align: right;\n",
              "    }\n",
              "</style>\n",
              "<table border=\"1\" class=\"dataframe\">\n",
              "  <thead>\n",
              "    <tr style=\"text-align: right;\">\n",
              "      <th></th>\n",
              "      <th>destination</th>\n",
              "      <th>passanger</th>\n",
              "      <th>weather</th>\n",
              "      <th>temperature</th>\n",
              "      <th>time</th>\n",
              "      <th>coupon</th>\n",
              "      <th>expiration</th>\n",
              "      <th>gender</th>\n",
              "      <th>age</th>\n",
              "      <th>maritalStatus</th>\n",
              "      <th>...</th>\n",
              "      <th>CoffeeHouse</th>\n",
              "      <th>CarryAway</th>\n",
              "      <th>RestaurantLessThan20</th>\n",
              "      <th>Restaurant20To50</th>\n",
              "      <th>toCoupon_GEQ5min</th>\n",
              "      <th>toCoupon_GEQ15min</th>\n",
              "      <th>toCoupon_GEQ25min</th>\n",
              "      <th>direction_same</th>\n",
              "      <th>direction_opp</th>\n",
              "      <th>Y</th>\n",
              "    </tr>\n",
              "  </thead>\n",
              "  <tbody>\n",
              "    <tr>\n",
              "      <th>0</th>\n",
              "      <td>No Urgent Place</td>\n",
              "      <td>Alone</td>\n",
              "      <td>Sunny</td>\n",
              "      <td>55</td>\n",
              "      <td>2PM</td>\n",
              "      <td>Restaurant(&lt;20)</td>\n",
              "      <td>1d</td>\n",
              "      <td>Female</td>\n",
              "      <td>21</td>\n",
              "      <td>Unmarried partner</td>\n",
              "      <td>...</td>\n",
              "      <td>never</td>\n",
              "      <td>NaN</td>\n",
              "      <td>4~8</td>\n",
              "      <td>1~3</td>\n",
              "      <td>1</td>\n",
              "      <td>0</td>\n",
              "      <td>0</td>\n",
              "      <td>0</td>\n",
              "      <td>1</td>\n",
              "      <td>1</td>\n",
              "    </tr>\n",
              "    <tr>\n",
              "      <th>1</th>\n",
              "      <td>No Urgent Place</td>\n",
              "      <td>Friend(s)</td>\n",
              "      <td>Sunny</td>\n",
              "      <td>80</td>\n",
              "      <td>10AM</td>\n",
              "      <td>Coffee House</td>\n",
              "      <td>2h</td>\n",
              "      <td>Female</td>\n",
              "      <td>21</td>\n",
              "      <td>Unmarried partner</td>\n",
              "      <td>...</td>\n",
              "      <td>never</td>\n",
              "      <td>NaN</td>\n",
              "      <td>4~8</td>\n",
              "      <td>1~3</td>\n",
              "      <td>1</td>\n",
              "      <td>0</td>\n",
              "      <td>0</td>\n",
              "      <td>0</td>\n",
              "      <td>1</td>\n",
              "      <td>0</td>\n",
              "    </tr>\n",
              "    <tr>\n",
              "      <th>2</th>\n",
              "      <td>No Urgent Place</td>\n",
              "      <td>Friend(s)</td>\n",
              "      <td>Sunny</td>\n",
              "      <td>80</td>\n",
              "      <td>10AM</td>\n",
              "      <td>Carry out &amp; Take away</td>\n",
              "      <td>2h</td>\n",
              "      <td>Female</td>\n",
              "      <td>21</td>\n",
              "      <td>Unmarried partner</td>\n",
              "      <td>...</td>\n",
              "      <td>never</td>\n",
              "      <td>NaN</td>\n",
              "      <td>4~8</td>\n",
              "      <td>1~3</td>\n",
              "      <td>1</td>\n",
              "      <td>1</td>\n",
              "      <td>0</td>\n",
              "      <td>0</td>\n",
              "      <td>1</td>\n",
              "      <td>1</td>\n",
              "    </tr>\n",
              "    <tr>\n",
              "      <th>3</th>\n",
              "      <td>No Urgent Place</td>\n",
              "      <td>Friend(s)</td>\n",
              "      <td>Sunny</td>\n",
              "      <td>80</td>\n",
              "      <td>2PM</td>\n",
              "      <td>Coffee House</td>\n",
              "      <td>2h</td>\n",
              "      <td>Female</td>\n",
              "      <td>21</td>\n",
              "      <td>Unmarried partner</td>\n",
              "      <td>...</td>\n",
              "      <td>never</td>\n",
              "      <td>NaN</td>\n",
              "      <td>4~8</td>\n",
              "      <td>1~3</td>\n",
              "      <td>1</td>\n",
              "      <td>1</td>\n",
              "      <td>0</td>\n",
              "      <td>0</td>\n",
              "      <td>1</td>\n",
              "      <td>0</td>\n",
              "    </tr>\n",
              "    <tr>\n",
              "      <th>4</th>\n",
              "      <td>No Urgent Place</td>\n",
              "      <td>Friend(s)</td>\n",
              "      <td>Sunny</td>\n",
              "      <td>80</td>\n",
              "      <td>2PM</td>\n",
              "      <td>Coffee House</td>\n",
              "      <td>1d</td>\n",
              "      <td>Female</td>\n",
              "      <td>21</td>\n",
              "      <td>Unmarried partner</td>\n",
              "      <td>...</td>\n",
              "      <td>never</td>\n",
              "      <td>NaN</td>\n",
              "      <td>4~8</td>\n",
              "      <td>1~3</td>\n",
              "      <td>1</td>\n",
              "      <td>1</td>\n",
              "      <td>0</td>\n",
              "      <td>0</td>\n",
              "      <td>1</td>\n",
              "      <td>0</td>\n",
              "    </tr>\n",
              "  </tbody>\n",
              "</table>\n",
              "<p>5 rows × 26 columns</p>\n",
              "</div>"
            ],
            "text/plain": [
              "       destination  passanger weather  temperature  time  \\\n",
              "0  No Urgent Place      Alone   Sunny           55   2PM   \n",
              "1  No Urgent Place  Friend(s)   Sunny           80  10AM   \n",
              "2  No Urgent Place  Friend(s)   Sunny           80  10AM   \n",
              "3  No Urgent Place  Friend(s)   Sunny           80   2PM   \n",
              "4  No Urgent Place  Friend(s)   Sunny           80   2PM   \n",
              "\n",
              "                  coupon expiration  gender age      maritalStatus  ...  \\\n",
              "0        Restaurant(<20)         1d  Female  21  Unmarried partner  ...   \n",
              "1           Coffee House         2h  Female  21  Unmarried partner  ...   \n",
              "2  Carry out & Take away         2h  Female  21  Unmarried partner  ...   \n",
              "3           Coffee House         2h  Female  21  Unmarried partner  ...   \n",
              "4           Coffee House         1d  Female  21  Unmarried partner  ...   \n",
              "\n",
              "   CoffeeHouse CarryAway RestaurantLessThan20 Restaurant20To50  \\\n",
              "0        never       NaN                  4~8              1~3   \n",
              "1        never       NaN                  4~8              1~3   \n",
              "2        never       NaN                  4~8              1~3   \n",
              "3        never       NaN                  4~8              1~3   \n",
              "4        never       NaN                  4~8              1~3   \n",
              "\n",
              "  toCoupon_GEQ5min toCoupon_GEQ15min toCoupon_GEQ25min direction_same  \\\n",
              "0                1                 0                 0              0   \n",
              "1                1                 0                 0              0   \n",
              "2                1                 1                 0              0   \n",
              "3                1                 1                 0              0   \n",
              "4                1                 1                 0              0   \n",
              "\n",
              "  direction_opp  Y  \n",
              "0             1  1  \n",
              "1             1  0  \n",
              "2             1  1  \n",
              "3             1  0  \n",
              "4             1  0  \n",
              "\n",
              "[5 rows x 26 columns]"
            ]
          },
          "execution_count": 106,
          "metadata": {},
          "output_type": "execute_result"
        }
      ],
      "source": [
        "data.head()"
      ]
    },
    {
      "cell_type": "markdown",
      "metadata": {
        "id": "GcDs78ZH_qRH"
      },
      "source": [
        "2. Investigate the dataset for missing or problematic data."
      ]
    },
    {
      "cell_type": "code",
      "execution_count": 107,
      "metadata": {
        "id": "6CwL6oWj_qRH"
      },
      "outputs": [
        {
          "data": {
            "text/plain": [
              "destination                 0\n",
              "passanger                   0\n",
              "weather                     0\n",
              "temperature                 0\n",
              "time                        0\n",
              "coupon                      0\n",
              "expiration                  0\n",
              "gender                      0\n",
              "age                         0\n",
              "maritalStatus               0\n",
              "has_children                0\n",
              "education                   0\n",
              "occupation                  0\n",
              "income                      0\n",
              "car                     12576\n",
              "Bar                       107\n",
              "CoffeeHouse               217\n",
              "CarryAway                 151\n",
              "RestaurantLessThan20      130\n",
              "Restaurant20To50          189\n",
              "toCoupon_GEQ5min            0\n",
              "toCoupon_GEQ15min           0\n",
              "toCoupon_GEQ25min           0\n",
              "direction_same              0\n",
              "direction_opp               0\n",
              "Y                           0\n",
              "dtype: int64"
            ]
          },
          "execution_count": 107,
          "metadata": {},
          "output_type": "execute_result"
        }
      ],
      "source": [
        "data.isna().sum()"
      ]
    },
    {
      "cell_type": "markdown",
      "metadata": {
        "id": "bSdVSpYB_qRH"
      },
      "source": [
        "3. Decide what to do about your missing data -- drop, replace, other..."
      ]
    },
    {
      "cell_type": "code",
      "execution_count": 108,
      "metadata": {
        "id": "tyvoAC5F_qRI"
      },
      "outputs": [
        {
          "name": "stdout",
          "output_type": "stream",
          "text": [
            "car\n",
            "Scooter and motorcycle                      22\n",
            "Mazda5                                      22\n",
            "do not drive                                22\n",
            "crossover                                   21\n",
            "Car that is too old to install Onstar :D    21\n",
            "Name: count, dtype: int64\n"
          ]
        },
        {
          "data": {
            "text/plain": [
              "age\n",
              "21    2653\n",
              "26    2559\n",
              "31    2039\n",
              "50    1788\n",
              "36    1319\n",
              "41    1093\n",
              "46     686\n",
              "18     547\n",
              "Name: count, dtype: int64"
            ]
          },
          "execution_count": 108,
          "metadata": {},
          "output_type": "execute_result"
        }
      ],
      "source": [
        "#it's unlike the car the data is useful we just drop the data\n",
        "#the other missing data is small relative to the datas size so it likely can be ignored for now\n",
        "\n",
        "print(data[\"car\"].value_counts())  ## too few data points to really be of use on a data set of this size\n",
        "data.drop(\"car\", axis=1)\n",
        "\n",
        "\n",
        "data['age'] = data['age'].str.replace('50plus', '50')\n",
        "data['age'] = data['age'].str.replace('below21', '18')\n",
        "\n",
        "\n",
        "data['age'] = data['age'].astype(int)\n",
        "data['age'].value_counts()\n",
        "\n"
      ]
    },
    {
      "cell_type": "code",
      "execution_count": 109,
      "metadata": {},
      "outputs": [
        {
          "data": {
            "text/html": [
              "<div>\n",
              "<style scoped>\n",
              "    .dataframe tbody tr th:only-of-type {\n",
              "        vertical-align: middle;\n",
              "    }\n",
              "\n",
              "    .dataframe tbody tr th {\n",
              "        vertical-align: top;\n",
              "    }\n",
              "\n",
              "    .dataframe thead th {\n",
              "        text-align: right;\n",
              "    }\n",
              "</style>\n",
              "<table border=\"1\" class=\"dataframe\">\n",
              "  <thead>\n",
              "    <tr style=\"text-align: right;\">\n",
              "      <th></th>\n",
              "      <th>Destination</th>\n",
              "      <th>passanger</th>\n",
              "      <th>Weather Conditions</th>\n",
              "      <th>Temperature (F)</th>\n",
              "      <th>Time</th>\n",
              "      <th>Coupon Type</th>\n",
              "      <th>Expiration</th>\n",
              "      <th>Gender</th>\n",
              "      <th>Age Group</th>\n",
              "      <th>Marital Status</th>\n",
              "      <th>...</th>\n",
              "      <th>Coffee House</th>\n",
              "      <th>Carry out &amp; Take away</th>\n",
              "      <th>Restaurant &lt; $20</th>\n",
              "      <th>Restaurant $20 - $50</th>\n",
              "      <th>toCoupon_GEQ5min</th>\n",
              "      <th>toCoupon_GEQ15min</th>\n",
              "      <th>toCoupon_GEQ25min</th>\n",
              "      <th>direction_same</th>\n",
              "      <th>direction_opp</th>\n",
              "      <th>Y</th>\n",
              "    </tr>\n",
              "  </thead>\n",
              "  <tbody>\n",
              "  </tbody>\n",
              "</table>\n",
              "<p>0 rows × 26 columns</p>\n",
              "</div>"
            ],
            "text/plain": [
              "Empty DataFrame\n",
              "Columns: [Destination, passanger, Weather Conditions, Temperature (F), Time, Coupon Type, Expiration, Gender, Age Group, Marital Status, has_children, education, occupation, Annual Income, car, Bar, Coffee House, Carry out & Take away, Restaurant < $20, Restaurant $20 - $50, toCoupon_GEQ5min, toCoupon_GEQ15min, toCoupon_GEQ25min, direction_same, direction_opp, Y]\n",
              "Index: []\n",
              "\n",
              "[0 rows x 26 columns]"
            ]
          },
          "execution_count": 109,
          "metadata": {},
          "output_type": "execute_result"
        }
      ],
      "source": [
        "#column name cleaning\n",
        "#Clean the names of the Columns\n",
        "data.rename(columns={'coupon': 'Coupon Type',\n",
        "    'age': \"Age Group\",\n",
        "    'weather': 'Weather Conditions',\n",
        "    'destination' : 'Destination',\n",
        "    'time':'Time',\n",
        "    'expiration': 'Expiration', \n",
        "    'maritalStatus': 'Marital Status',\n",
        "    'CoffeeHouse': 'Coffee House',\n",
        "    'CarryAway': 'Carry out & Take away',\n",
        "    'RestaurantLessThan20': 'Restaurant < $20',\n",
        "    'Restaurant20To50': 'Restaurant $20 - $50',\n",
        "    'temperature': 'Temperature (F)',\n",
        "    'income' : 'Annual Income',\n",
        "    'gender': 'Gender'}, inplace=True)\n",
        "data.head(0)"
      ]
    },
    {
      "cell_type": "markdown",
      "metadata": {
        "id": "YE6oJbXd_qRI"
      },
      "source": [
        "4. What proportion of the total observations chose to accept the coupon?\n",
        "\n"
      ]
    },
    {
      "cell_type": "code",
      "execution_count": 110,
      "metadata": {
        "id": "86GGqBTv_qRI"
      },
      "outputs": [
        {
          "data": {
            "text/plain": [
              "0.5684326710816777"
            ]
          },
          "execution_count": 110,
          "metadata": {},
          "output_type": "execute_result"
        }
      ],
      "source": [
        "data['Y'].sum()/len(data['Y'])\n"
      ]
    },
    {
      "cell_type": "markdown",
      "metadata": {
        "id": "vflz0DoE_qRI"
      },
      "source": [
        "5. Use a bar plot to visualize the `coupon` column."
      ]
    },
    {
      "cell_type": "code",
      "execution_count": 111,
      "metadata": {
        "id": "dHFh3E45_qRI"
      },
      "outputs": [
        {
          "data": {
            "text/plain": [
              "([0, 1, 2, 3, 4],\n",
              " [Text(0, 0, 'Bar'),\n",
              "  Text(1, 0, 'Carry out & Take away'),\n",
              "  Text(2, 0, 'Coffee House'),\n",
              "  Text(3, 0, 'Restaurant(20-50)'),\n",
              "  Text(4, 0, 'Restaurant(<20)')])"
            ]
          },
          "execution_count": 111,
          "metadata": {},
          "output_type": "execute_result"
        },
        {
          "data": {
            "image/png": "[encoded data removed]",
            "text/plain": [
              "<Figure size 640x480 with 1 Axes>"
            ]
          },
          "metadata": {},
          "output_type": "display_data"
        }
      ],
      "source": [
        "coupon_series = data[\"Coupon Type\"].value_counts(normalize=True)\n",
        "coupon_series.sort_index(inplace=True)\n",
        "sns.barplot(x = coupon_series.index, y = coupon_series*100, hue=coupon_series.index)\n",
        "plt.title(\"Coupon Type Distribution\")\n",
        "plt.ylabel(\"Percentage of Coupon Type Offered\")\n",
        "plt.xlabel(\"Coupon Type\")\n",
        "plt.xticks(rotation=-45)\n",
        "\n"
      ]
    },
    {
      "cell_type": "markdown",
      "metadata": {
        "id": "Qw4lCyx2_qRI"
      },
      "source": [
        "6. Use a histogram to visualize the temperature column."
      ]
    },
    {
      "cell_type": "code",
      "execution_count": 112,
      "metadata": {
        "id": "Yg9Anv71_qRI"
      },
      "outputs": [
        {
          "data": {
            "text/plain": [
              "<Axes: xlabel='Temperature (F)', ylabel='Count'>"
            ]
          },
          "execution_count": 112,
          "metadata": {},
          "output_type": "execute_result"
        },
        {
          "data": {
            "image/png": "[encoded data removed]",
            "text/plain": [
              "<Figure size 640x480 with 1 Axes>"
            ]
          },
          "metadata": {},
          "output_type": "display_data"
        }
      ],
      "source": [
        "sns.histplot(data['Temperature (F)'], bins=20)"
      ]
    },
    {
      "cell_type": "markdown",
      "metadata": {},
      "source": [
        "Most of the data in the data set is pre binned making a histogram not all that useful for this data set"
      ]
    },
    {
      "cell_type": "markdown",
      "metadata": {
        "id": "FupfgeJk_qRJ"
      },
      "source": [
        "**Investigating the Bar Coupons**\n",
        "\n",
        "Now, we will lead you through an exploration of just the bar related coupons.  \n",
        "\n",
        "1. Create a new `DataFrame` that contains just the bar coupons.\n"
      ]
    },
    {
      "cell_type": "code",
      "execution_count": 113,
      "metadata": {
        "id": "tMBlWuGq_qRJ"
      },
      "outputs": [
        {
          "data": {
            "text/html": [
              "<div>\n",
              "<style scoped>\n",
              "    .dataframe tbody tr th:only-of-type {\n",
              "        vertical-align: middle;\n",
              "    }\n",
              "\n",
              "    .dataframe tbody tr th {\n",
              "        vertical-align: top;\n",
              "    }\n",
              "\n",
              "    .dataframe thead th {\n",
              "        text-align: right;\n",
              "    }\n",
              "</style>\n",
              "<table border=\"1\" class=\"dataframe\">\n",
              "  <thead>\n",
              "    <tr style=\"text-align: right;\">\n",
              "      <th></th>\n",
              "      <th>Destination</th>\n",
              "      <th>passanger</th>\n",
              "      <th>Weather Conditions</th>\n",
              "      <th>Temperature (F)</th>\n",
              "      <th>Time</th>\n",
              "      <th>Coupon Type</th>\n",
              "      <th>Expiration</th>\n",
              "      <th>Gender</th>\n",
              "      <th>Age Group</th>\n",
              "      <th>Marital Status</th>\n",
              "      <th>...</th>\n",
              "      <th>Coffee House</th>\n",
              "      <th>Carry out &amp; Take away</th>\n",
              "      <th>Restaurant &lt; $20</th>\n",
              "      <th>Restaurant $20 - $50</th>\n",
              "      <th>toCoupon_GEQ5min</th>\n",
              "      <th>toCoupon_GEQ15min</th>\n",
              "      <th>toCoupon_GEQ25min</th>\n",
              "      <th>direction_same</th>\n",
              "      <th>direction_opp</th>\n",
              "      <th>Y</th>\n",
              "    </tr>\n",
              "  </thead>\n",
              "  <tbody>\n",
              "    <tr>\n",
              "      <th>9</th>\n",
              "      <td>No Urgent Place</td>\n",
              "      <td>Kid(s)</td>\n",
              "      <td>Sunny</td>\n",
              "      <td>80</td>\n",
              "      <td>10AM</td>\n",
              "      <td>Bar</td>\n",
              "      <td>1d</td>\n",
              "      <td>Female</td>\n",
              "      <td>21</td>\n",
              "      <td>Unmarried partner</td>\n",
              "      <td>...</td>\n",
              "      <td>never</td>\n",
              "      <td>NaN</td>\n",
              "      <td>4~8</td>\n",
              "      <td>1~3</td>\n",
              "      <td>1</td>\n",
              "      <td>1</td>\n",
              "      <td>0</td>\n",
              "      <td>0</td>\n",
              "      <td>1</td>\n",
              "      <td>0</td>\n",
              "    </tr>\n",
              "    <tr>\n",
              "      <th>13</th>\n",
              "      <td>Home</td>\n",
              "      <td>Alone</td>\n",
              "      <td>Sunny</td>\n",
              "      <td>55</td>\n",
              "      <td>6PM</td>\n",
              "      <td>Bar</td>\n",
              "      <td>1d</td>\n",
              "      <td>Female</td>\n",
              "      <td>21</td>\n",
              "      <td>Unmarried partner</td>\n",
              "      <td>...</td>\n",
              "      <td>never</td>\n",
              "      <td>NaN</td>\n",
              "      <td>4~8</td>\n",
              "      <td>1~3</td>\n",
              "      <td>1</td>\n",
              "      <td>0</td>\n",
              "      <td>0</td>\n",
              "      <td>1</td>\n",
              "      <td>0</td>\n",
              "      <td>1</td>\n",
              "    </tr>\n",
              "    <tr>\n",
              "      <th>17</th>\n",
              "      <td>Work</td>\n",
              "      <td>Alone</td>\n",
              "      <td>Sunny</td>\n",
              "      <td>55</td>\n",
              "      <td>7AM</td>\n",
              "      <td>Bar</td>\n",
              "      <td>1d</td>\n",
              "      <td>Female</td>\n",
              "      <td>21</td>\n",
              "      <td>Unmarried partner</td>\n",
              "      <td>...</td>\n",
              "      <td>never</td>\n",
              "      <td>NaN</td>\n",
              "      <td>4~8</td>\n",
              "      <td>1~3</td>\n",
              "      <td>1</td>\n",
              "      <td>1</td>\n",
              "      <td>1</td>\n",
              "      <td>0</td>\n",
              "      <td>1</td>\n",
              "      <td>0</td>\n",
              "    </tr>\n",
              "    <tr>\n",
              "      <th>24</th>\n",
              "      <td>No Urgent Place</td>\n",
              "      <td>Friend(s)</td>\n",
              "      <td>Sunny</td>\n",
              "      <td>80</td>\n",
              "      <td>10AM</td>\n",
              "      <td>Bar</td>\n",
              "      <td>1d</td>\n",
              "      <td>Male</td>\n",
              "      <td>21</td>\n",
              "      <td>Single</td>\n",
              "      <td>...</td>\n",
              "      <td>less1</td>\n",
              "      <td>4~8</td>\n",
              "      <td>4~8</td>\n",
              "      <td>less1</td>\n",
              "      <td>1</td>\n",
              "      <td>0</td>\n",
              "      <td>0</td>\n",
              "      <td>0</td>\n",
              "      <td>1</td>\n",
              "      <td>1</td>\n",
              "    </tr>\n",
              "    <tr>\n",
              "      <th>35</th>\n",
              "      <td>Home</td>\n",
              "      <td>Alone</td>\n",
              "      <td>Sunny</td>\n",
              "      <td>55</td>\n",
              "      <td>6PM</td>\n",
              "      <td>Bar</td>\n",
              "      <td>1d</td>\n",
              "      <td>Male</td>\n",
              "      <td>21</td>\n",
              "      <td>Single</td>\n",
              "      <td>...</td>\n",
              "      <td>less1</td>\n",
              "      <td>4~8</td>\n",
              "      <td>4~8</td>\n",
              "      <td>less1</td>\n",
              "      <td>1</td>\n",
              "      <td>0</td>\n",
              "      <td>0</td>\n",
              "      <td>1</td>\n",
              "      <td>0</td>\n",
              "      <td>1</td>\n",
              "    </tr>\n",
              "  </tbody>\n",
              "</table>\n",
              "<p>5 rows × 26 columns</p>\n",
              "</div>"
            ],
            "text/plain": [
              "        Destination  passanger Weather Conditions  Temperature (F)  Time  \\\n",
              "9   No Urgent Place     Kid(s)              Sunny               80  10AM   \n",
              "13             Home      Alone              Sunny               55   6PM   \n",
              "17             Work      Alone              Sunny               55   7AM   \n",
              "24  No Urgent Place  Friend(s)              Sunny               80  10AM   \n",
              "35             Home      Alone              Sunny               55   6PM   \n",
              "\n",
              "   Coupon Type Expiration  Gender  Age Group     Marital Status  ...  \\\n",
              "9          Bar         1d  Female         21  Unmarried partner  ...   \n",
              "13         Bar         1d  Female         21  Unmarried partner  ...   \n",
              "17         Bar         1d  Female         21  Unmarried partner  ...   \n",
              "24         Bar         1d    Male         21             Single  ...   \n",
              "35         Bar         1d    Male         21             Single  ...   \n",
              "\n",
              "    Coffee House Carry out & Take away Restaurant < $20 Restaurant $20 - $50  \\\n",
              "9          never                   NaN              4~8                  1~3   \n",
              "13         never                   NaN              4~8                  1~3   \n",
              "17         never                   NaN              4~8                  1~3   \n",
              "24         less1                   4~8              4~8                less1   \n",
              "35         less1                   4~8              4~8                less1   \n",
              "\n",
              "   toCoupon_GEQ5min toCoupon_GEQ15min toCoupon_GEQ25min direction_same  \\\n",
              "9                 1                 1                 0              0   \n",
              "13                1                 0                 0              1   \n",
              "17                1                 1                 1              0   \n",
              "24                1                 0                 0              0   \n",
              "35                1                 0                 0              1   \n",
              "\n",
              "   direction_opp  Y  \n",
              "9              1  0  \n",
              "13             0  1  \n",
              "17             1  0  \n",
              "24             1  1  \n",
              "35             0  1  \n",
              "\n",
              "[5 rows x 26 columns]"
            ]
          },
          "execution_count": 113,
          "metadata": {},
          "output_type": "execute_result"
        }
      ],
      "source": [
        "bar_df = data[data['Coupon Type'] == 'Bar']\n",
        "bar_df.head()"
      ]
    },
    {
      "cell_type": "markdown",
      "metadata": {
        "id": "8ue6uCqf_qRJ"
      },
      "source": [
        "2. What proportion of bar coupons were accepted?\n"
      ]
    },
    {
      "cell_type": "code",
      "execution_count": 114,
      "metadata": {},
      "outputs": [
        {
          "data": {
            "text/plain": [
              "0.41001487357461575"
            ]
          },
          "execution_count": 114,
          "metadata": {},
          "output_type": "execute_result"
        }
      ],
      "source": [
        "bar_df['Y'].sum()/len(bar_df['Y'])"
      ]
    },
    {
      "cell_type": "markdown",
      "metadata": {
        "id": "85nA_iEi_qRK"
      },
      "source": [
        "3. Compare the acceptance rate between those who went to a bar 3 or fewer times a month to those who went more.\n"
      ]
    },
    {
      "cell_type": "code",
      "execution_count": 115,
      "metadata": {
        "id": "LBOrN-XM_qRK"
      },
      "outputs": [
        {
          "data": {
            "text/plain": [
              "Bar\n",
              "never    830\n",
              "less1    570\n",
              "1~3      397\n",
              "4~8      150\n",
              "gt8       49\n",
              "Name: count, dtype: int64"
            ]
          },
          "execution_count": 115,
          "metadata": {},
          "output_type": "execute_result"
        }
      ],
      "source": [
        "#drop invalid visit data from the set\n",
        "bar_df = bar_df.dropna(subset=['Bar'])\n",
        "\n",
        "bar_df['Bar'].value_counts()\n",
        "\n"
      ]
    },
    {
      "cell_type": "code",
      "execution_count": 116,
      "metadata": {},
      "outputs": [
        {
          "name": "stdout",
          "output_type": "stream",
          "text": [
            "Three or less bar visits per month coupon accptance percentage:  37.061769616026716 \n",
            "Four or more visits per month coupon accptance percentage:  76.88442211055276\n"
          ]
        }
      ],
      "source": [
        "#accptance rate of of 3 or fewer visits per month\n",
        "three_or_fewer_visits = bar_df.loc[bar_df['Bar'].isin(['1~3', 'less1', 'never']) , 'Y']\n",
        "less_frac = three_or_fewer_visits.sum()/len(three_or_fewer_visits)\n",
        "\n",
        "three_or_grater_visits = bar_df.loc[bar_df['Bar'].isin(['4~8', 'gt8']) , 'Y']\n",
        "greater_frac = three_or_grater_visits.sum()/len(three_or_grater_visits)\n",
        "print(\"Three or less bar visits per month coupon accptance percentage: \", 100*less_frac, \"\\nFour or more visits per month coupon accptance percentage: \", 100*greater_frac)\n"
      ]
    },
    {
      "cell_type": "markdown",
      "metadata": {
        "id": "RBgcQwH4_qRK"
      },
      "source": [
        "4. Compare the acceptance rate between drivers who go to a bar more than once a month and are over the age of 25 to the all others.  Is there a difference?\n"
      ]
    },
    {
      "cell_type": "code",
      "execution_count": 117,
      "metadata": {},
      "outputs": [
        {
          "name": "stdout",
          "output_type": "stream",
          "text": [
            "Acceptance rate of bar coupons for those over 25 who vist more than once a month:  69.52380952380952 \n",
            "Acceptance rate of bar coupons for all others:  33.43908629441624\n",
            "There is is a significant difference in acceptance rate between the two groups\n"
          ]
        }
      ],
      "source": [
        "gt_25_bar_bool_arr = bar_df['Bar'].isin(['1~3','4~8', 'gt8']) & (bar_df['Age Group'] > 25)\n",
        "gt25_bar = bar_df.loc[gt_25_bar_bool_arr, 'Y'].sum()/len(bar_df.loc[gt_25_bar_bool_arr, 'Y'])\n",
        "not_gt25_bar = bar_df.loc[~gt_25_bar_bool_arr, 'Y'].sum()/len(bar_df.loc[~gt_25_bar_bool_arr, 'Y'])\n",
        "\n",
        "print(\"Acceptance rate of bar coupons for those over 25 who vist more than once a month: \", 100*gt25_bar, \"\\nAcceptance rate of bar coupons for all others: \", 100*not_gt25_bar)\n",
        "print(\"There is is a significant difference in acceptance rate between the two groups\")"
      ]
    },
    {
      "cell_type": "markdown",
      "metadata": {
        "id": "S4RKT4PJ_qRK"
      },
      "source": [
        "5. Use the same process to compare the acceptance rate between drivers who go to bars more than once a month and had passengers that were not a kid and had occupations other than farming, fishing, or forestry.\n"
      ]
    },
    {
      "cell_type": "code",
      "execution_count": 118,
      "metadata": {
        "id": "sENaI2Tg_qRK"
      },
      "outputs": [
        {
          "name": "stdout",
          "output_type": "stream",
          "text": [
            "Acceptance rate of bar coupons for thos who vist more than once a month and were with out kids as passangers\n",
            "and are in and are in an occupation other than farming, fishing, or forestry:  68.79194630872483 \n",
            "Acceptance rate of bar coupons for all others:  29.214285714285715\n",
            "There is is a significant difference in acceptance rate between the two groups\n"
          ]
        }
      ],
      "source": [
        "bool_arr = bar_df['Bar'].isin(['1~3','4~8', 'gt8']) & ~bar_df['passanger'].isin(['Kids(s)']) & ~(bar_df['occupation'].isin(['Farming Fishing & Forestry']))\n",
        "no_kids_no_farm = bar_df.loc[bool_arr, 'Y'].sum()/len(bar_df.loc[bool_arr, 'Y'])\n",
        "kids_and_farm = bar_df.loc[~bool_arr, 'Y'].sum()/len(bar_df.loc[~bool_arr, 'Y'])\n",
        "\n",
        "print(\"Acceptance rate of bar coupons for thos who vist more than once a month and were with out kids as passangers\\nand are in and are in an occupation other than farming, fishing, or forestry: \", 100*no_kids_no_farm, \"\\nAcceptance rate of bar coupons for all others: \", 100*kids_and_farm)\n",
        "print(\"There is is a significant difference in acceptance rate between the two groups\")"
      ]
    },
    {
      "cell_type": "markdown",
      "metadata": {
        "id": "n2LIUTil_qRK"
      },
      "source": [
        "6. Compare the acceptance rates between those drivers who:\n",
        "\n",
        "- go to bars more than once a month, had passengers that were not a kid, and were not widowed *OR*\n",
        "- go to bars more than once a month and are under the age of 30 *OR*\n",
        "- go to cheap restaurants more than 4 times a month and income is less than 50K.\n",
        "\n"
      ]
    },
    {
      "cell_type": "code",
      "execution_count": 124,
      "metadata": {},
      "outputs": [
        {
          "name": "stdout",
          "output_type": "stream",
          "text": [
            "Acceptance rate for above group:  76.04166666666666 \n",
            "Acceptance rate for all others:  39.26315789473684\n",
            "There is is a significant difference in acceptance rate between the two groups\n"
          ]
        }
      ],
      "source": [
        "bool_arr_1 = bar_df['Bar'].isin(['1~3','4~8', 'gt8']) & ~bar_df['passanger'].isin(['Kids(s)']) & ~(bar_df['Marital Status'].isin(['Widowed']))\n",
        "bool_arr_2 = bar_df['Bar'].isin(['1~3','4~8', 'gt8']) & (bar_df['Age Group'] < 30)\n",
        "bool_arr_3 = bar_df['Restaurant < $20'].isin(['4~8', 'gt8']) & bar_df['Annual Income'].isin(['Less than $12500', '$12500 - $24999', '$25000 - $37499', '$37500 - $49999'])\n",
        "\n",
        "all_bool_arr = bool_arr_1 & bool_arr_2 & bool_arr_3\n",
        "\n",
        "mention_group = bar_df.loc[all_bool_arr, 'Y'].sum()/len(bar_df.loc[all_bool_arr, 'Y'])\n",
        "not_mention_group = bar_df.loc[~all_bool_arr, 'Y'].sum()/len(bar_df.loc[~all_bool_arr, 'Y'])\n",
        "\n",
        "print(\"Acceptance rate for above group: \", 100*mention_group, \"\\nAcceptance rate for all others: \", 100*not_mention_group)\n",
        "print(\"There is is a significant difference in acceptance rate between the two groups\")\n",
        "\n",
        "\n"
      ]
    },
    {
      "cell_type": "markdown",
      "metadata": {
        "id": "v3fL3QkO_qRK"
      },
      "source": [
        "7.  Based on these observations, what do you hypothesize about drivers who accepted the bar coupons?"
      ]
    },
    {
      "cell_type": "code",
      "execution_count": 128,
      "metadata": {
        "id": "Y48naDFh_qRL"
      },
      "outputs": [
        {
          "name": "stdout",
          "output_type": "stream",
          "text": [
            "They drink at least once a week. They're also likely to be younger and with out children at the time or have a lower income\n"
          ]
        }
      ],
      "source": [
        "print(\"They drink at least once a week. They're also likely to be younger and with out children at the time or have a lower income\")"
      ]
    },
    {
      "cell_type": "markdown",
      "metadata": {
        "id": "r4Hu1zOb_qRL"
      },
      "source": [
        "### Independent Investigation\n",
        "\n",
        "Using the bar coupon example as motivation, you are to explore one of the other coupon groups and try to determine the characteristics of passengers who accept the coupons.  "
      ]
    },
    {
      "cell_type": "code",
      "execution_count": null,
      "metadata": {
        "id": "0c71cQhu_qRL"
      },
      "outputs": [],
      "source": []
    },
    {
      "cell_type": "code",
      "execution_count": null,
      "metadata": {
        "id": "QEsBkvIN_qRL"
      },
      "outputs": [],
      "source": []
    },
    {
      "cell_type": "code",
      "execution_count": null,
      "metadata": {
        "id": "fTC2WGE3_qRL"
      },
      "outputs": [],
      "source": []
    },
    {
      "cell_type": "code",
      "execution_count": null,
      "metadata": {
        "id": "RrqUWn7d_qRL"
      },
      "outputs": [],
      "source": []
    },
    {
      "cell_type": "code",
      "execution_count": null,
      "metadata": {
        "id": "_oykf8YP_qRL"
      },
      "outputs": [],
      "source": []
    }
  ],
  "metadata": {
    "colab": {
      "provenance": []
    },
    "kernelspec": {
      "display_name": "base",
      "language": "python",
      "name": "python3"
    },
    "language_info": {
      "codemirror_mode": {
        "name": "ipython",
        "version": 3
      },
      "file_extension": ".py",
      "mimetype": "text/x-python",
      "name": "python",
      "nbconvert_exporter": "python",
      "pygments_lexer": "ipython3",
      "version": "3.12.7"
    }
  },
  "nbformat": 4,
  "nbformat_minor": 0
}
